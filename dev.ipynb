{
 "cells": [
  {
   "cell_type": "markdown",
   "metadata": {},
   "source": [
    "# Final project for Sta 671\n",
    "### Prediction of the price for rooms"
   ]
  },
  {
   "cell_type": "code",
   "execution_count": 1,
   "metadata": {},
   "outputs": [],
   "source": [
    "import numpy as np\n",
    "import pandas as pd\n",
    "\n",
    "import seaborn as sns\n",
    "import matplotlib.pyplot as plt\n",
    "\n",
    "from sklearn.model_selection import train_test_split, StratifiedKFold, KFold\n",
    "from sklearn.linear_model import LogisticRegression\n",
    "from sklearn.metrics import accuracy_score\n",
    "from sklearn.ensemble import RandomForestClassifier\n",
    "from sklearn.preprocessing import LabelEncoder  \n",
    "\n",
    "import xgboost as xgb\n",
    "from xgboost import XGBClassifier\n",
    "\n",
    "pd.set_option('display.max_columns', None)"
   ]
  },
  {
   "cell_type": "markdown",
   "metadata": {},
   "source": [
    "## 1. loading data & EDA"
   ]
  },
  {
   "cell_type": "code",
   "execution_count": 2,
   "metadata": {},
   "outputs": [],
   "source": [
    "# import data\n",
    "train = pd.read_csv('train.csv')\n",
    "test = pd.read_csv('test.csv')"
   ]
  },
  {
   "cell_type": "code",
   "execution_count": 4,
   "metadata": {
    "scrolled": true
   },
   "outputs": [
    {
     "data": {
      "text/html": [
       "<div>\n",
       "<style scoped>\n",
       "    .dataframe tbody tr th:only-of-type {\n",
       "        vertical-align: middle;\n",
       "    }\n",
       "\n",
       "    .dataframe tbody tr th {\n",
       "        vertical-align: top;\n",
       "    }\n",
       "\n",
       "    .dataframe thead th {\n",
       "        text-align: right;\n",
       "    }\n",
       "</style>\n",
       "<table border=\"1\" class=\"dataframe\">\n",
       "  <thead>\n",
       "    <tr style=\"text-align: right;\">\n",
       "      <th></th>\n",
       "      <th>id</th>\n",
       "      <th>neighbourhood</th>\n",
       "      <th>room_type</th>\n",
       "      <th>minimum_nights</th>\n",
       "      <th>number_of_reviews</th>\n",
       "      <th>last_review</th>\n",
       "      <th>reviews_per_month</th>\n",
       "      <th>calculated_host_listings_count</th>\n",
       "      <th>availability_365</th>\n",
       "      <th>host_since</th>\n",
       "      <th>host_is_superhost</th>\n",
       "      <th>bathrooms</th>\n",
       "      <th>bedrooms</th>\n",
       "      <th>beds</th>\n",
       "      <th>bed_type</th>\n",
       "      <th>cleaning_fee</th>\n",
       "      <th>guests_included</th>\n",
       "      <th>extra_people</th>\n",
       "      <th>maximum_nights</th>\n",
       "      <th>instant_bookable</th>\n",
       "      <th>is_business_travel_ready</th>\n",
       "      <th>cancellation_policy</th>\n",
       "      <th>require_guest_profile_picture</th>\n",
       "      <th>require_guest_phone_verification</th>\n",
       "      <th>price</th>\n",
       "    </tr>\n",
       "  </thead>\n",
       "  <tbody>\n",
       "    <tr>\n",
       "      <th>0</th>\n",
       "      <td>727</td>\n",
       "      <td>Palermo</td>\n",
       "      <td>Entire home/apt</td>\n",
       "      <td>1</td>\n",
       "      <td>170</td>\n",
       "      <td>5/12/20</td>\n",
       "      <td>2.48</td>\n",
       "      <td>4</td>\n",
       "      <td>346</td>\n",
       "      <td>8/1/13</td>\n",
       "      <td>t</td>\n",
       "      <td>1.0</td>\n",
       "      <td>0</td>\n",
       "      <td>1</td>\n",
       "      <td>Real Bed</td>\n",
       "      <td>2092</td>\n",
       "      <td>1</td>\n",
       "      <td>0</td>\n",
       "      <td>365</td>\n",
       "      <td>t</td>\n",
       "      <td>f</td>\n",
       "      <td>strict_14_with_grace_period</td>\n",
       "      <td>f</td>\n",
       "      <td>f</td>\n",
       "      <td>2</td>\n",
       "    </tr>\n",
       "    <tr>\n",
       "      <th>1</th>\n",
       "      <td>6274</td>\n",
       "      <td>Colegiales</td>\n",
       "      <td>Private room</td>\n",
       "      <td>1</td>\n",
       "      <td>11</td>\n",
       "      <td>7/1/19</td>\n",
       "      <td>0.57</td>\n",
       "      <td>1</td>\n",
       "      <td>0</td>\n",
       "      <td>2/14/14</td>\n",
       "      <td>t</td>\n",
       "      <td>1.0</td>\n",
       "      <td>1</td>\n",
       "      <td>1</td>\n",
       "      <td>Real Bed</td>\n",
       "      <td>558</td>\n",
       "      <td>1</td>\n",
       "      <td>0</td>\n",
       "      <td>15</td>\n",
       "      <td>f</td>\n",
       "      <td>f</td>\n",
       "      <td>moderate</td>\n",
       "      <td>f</td>\n",
       "      <td>f</td>\n",
       "      <td>1</td>\n",
       "    </tr>\n",
       "    <tr>\n",
       "      <th>2</th>\n",
       "      <td>6025</td>\n",
       "      <td>Recoleta</td>\n",
       "      <td>Entire home/apt</td>\n",
       "      <td>3</td>\n",
       "      <td>2</td>\n",
       "      <td>11/23/19</td>\n",
       "      <td>0.08</td>\n",
       "      <td>19</td>\n",
       "      <td>360</td>\n",
       "      <td>10/19/17</td>\n",
       "      <td>f</td>\n",
       "      <td>1.0</td>\n",
       "      <td>0</td>\n",
       "      <td>1</td>\n",
       "      <td>Real Bed</td>\n",
       "      <td>1052</td>\n",
       "      <td>3</td>\n",
       "      <td>351</td>\n",
       "      <td>90</td>\n",
       "      <td>t</td>\n",
       "      <td>f</td>\n",
       "      <td>moderate</td>\n",
       "      <td>f</td>\n",
       "      <td>f</td>\n",
       "      <td>3</td>\n",
       "    </tr>\n",
       "    <tr>\n",
       "      <th>3</th>\n",
       "      <td>8931</td>\n",
       "      <td>Recoleta</td>\n",
       "      <td>Entire home/apt</td>\n",
       "      <td>2</td>\n",
       "      <td>1</td>\n",
       "      <td>11/1/19</td>\n",
       "      <td>0.13</td>\n",
       "      <td>1</td>\n",
       "      <td>267</td>\n",
       "      <td>2/1/19</td>\n",
       "      <td>f</td>\n",
       "      <td>1.0</td>\n",
       "      <td>1</td>\n",
       "      <td>3</td>\n",
       "      <td>Real Bed</td>\n",
       "      <td>0</td>\n",
       "      <td>4</td>\n",
       "      <td>0</td>\n",
       "      <td>1125</td>\n",
       "      <td>t</td>\n",
       "      <td>f</td>\n",
       "      <td>flexible</td>\n",
       "      <td>f</td>\n",
       "      <td>f</td>\n",
       "      <td>2</td>\n",
       "    </tr>\n",
       "    <tr>\n",
       "      <th>4</th>\n",
       "      <td>7524</td>\n",
       "      <td>San Nicolás</td>\n",
       "      <td>Entire home/apt</td>\n",
       "      <td>2</td>\n",
       "      <td>31</td>\n",
       "      <td>12/26/19</td>\n",
       "      <td>1.54</td>\n",
       "      <td>5</td>\n",
       "      <td>365</td>\n",
       "      <td>1/24/15</td>\n",
       "      <td>t</td>\n",
       "      <td>1.0</td>\n",
       "      <td>1</td>\n",
       "      <td>3</td>\n",
       "      <td>Real Bed</td>\n",
       "      <td>2092</td>\n",
       "      <td>1</td>\n",
       "      <td>0</td>\n",
       "      <td>365</td>\n",
       "      <td>t</td>\n",
       "      <td>f</td>\n",
       "      <td>moderate</td>\n",
       "      <td>f</td>\n",
       "      <td>f</td>\n",
       "      <td>3</td>\n",
       "    </tr>\n",
       "  </tbody>\n",
       "</table>\n",
       "</div>"
      ],
      "text/plain": [
       "     id neighbourhood        room_type  minimum_nights  number_of_reviews  \\\n",
       "0   727       Palermo  Entire home/apt               1                170   \n",
       "1  6274    Colegiales     Private room               1                 11   \n",
       "2  6025      Recoleta  Entire home/apt               3                  2   \n",
       "3  8931      Recoleta  Entire home/apt               2                  1   \n",
       "4  7524   San Nicolás  Entire home/apt               2                 31   \n",
       "\n",
       "  last_review  reviews_per_month  calculated_host_listings_count  \\\n",
       "0     5/12/20               2.48                               4   \n",
       "1      7/1/19               0.57                               1   \n",
       "2    11/23/19               0.08                              19   \n",
       "3     11/1/19               0.13                               1   \n",
       "4    12/26/19               1.54                               5   \n",
       "\n",
       "   availability_365 host_since host_is_superhost  bathrooms  bedrooms  beds  \\\n",
       "0               346     8/1/13                 t        1.0         0     1   \n",
       "1                 0    2/14/14                 t        1.0         1     1   \n",
       "2               360   10/19/17                 f        1.0         0     1   \n",
       "3               267     2/1/19                 f        1.0         1     3   \n",
       "4               365    1/24/15                 t        1.0         1     3   \n",
       "\n",
       "   bed_type  cleaning_fee  guests_included  extra_people  maximum_nights  \\\n",
       "0  Real Bed          2092                1             0             365   \n",
       "1  Real Bed           558                1             0              15   \n",
       "2  Real Bed          1052                3           351              90   \n",
       "3  Real Bed             0                4             0            1125   \n",
       "4  Real Bed          2092                1             0             365   \n",
       "\n",
       "  instant_bookable is_business_travel_ready          cancellation_policy  \\\n",
       "0                t                        f  strict_14_with_grace_period   \n",
       "1                f                        f                     moderate   \n",
       "2                t                        f                     moderate   \n",
       "3                t                        f                     flexible   \n",
       "4                t                        f                     moderate   \n",
       "\n",
       "  require_guest_profile_picture require_guest_phone_verification  price  \n",
       "0                             f                                f      2  \n",
       "1                             f                                f      1  \n",
       "2                             f                                f      3  \n",
       "3                             f                                f      2  \n",
       "4                             f                                f      3  "
      ]
     },
     "execution_count": 4,
     "metadata": {},
     "output_type": "execute_result"
    }
   ],
   "source": [
    "train.head()"
   ]
  },
  {
   "cell_type": "code",
   "execution_count": 5,
   "metadata": {},
   "outputs": [
    {
     "data": {
      "text/plain": [
       "Index(['id', 'neighbourhood', 'room_type', 'minimum_nights',\n",
       "       'number_of_reviews', 'last_review', 'reviews_per_month',\n",
       "       'calculated_host_listings_count', 'availability_365', 'host_since',\n",
       "       'host_is_superhost', 'bathrooms', 'bedrooms', 'beds', 'bed_type',\n",
       "       'cleaning_fee', 'guests_included', 'extra_people', 'maximum_nights',\n",
       "       'instant_bookable', 'is_business_travel_ready', 'cancellation_policy',\n",
       "       'require_guest_profile_picture', 'require_guest_phone_verification',\n",
       "       'price'],\n",
       "      dtype='object')"
      ]
     },
     "execution_count": 5,
     "metadata": {},
     "output_type": "execute_result"
    }
   ],
   "source": [
    "train.columns"
   ]
  },
  {
   "cell_type": "code",
   "execution_count": 6,
   "metadata": {},
   "outputs": [
    {
     "data": {
      "text/html": [
       "<div>\n",
       "<style scoped>\n",
       "    .dataframe tbody tr th:only-of-type {\n",
       "        vertical-align: middle;\n",
       "    }\n",
       "\n",
       "    .dataframe tbody tr th {\n",
       "        vertical-align: top;\n",
       "    }\n",
       "\n",
       "    .dataframe thead th {\n",
       "        text-align: right;\n",
       "    }\n",
       "</style>\n",
       "<table border=\"1\" class=\"dataframe\">\n",
       "  <thead>\n",
       "    <tr style=\"text-align: right;\">\n",
       "      <th></th>\n",
       "      <th>neighbourhood</th>\n",
       "      <th>room_type</th>\n",
       "      <th>minimum_nights</th>\n",
       "      <th>number_of_reviews</th>\n",
       "      <th>reviews_per_month</th>\n",
       "      <th>calculated_host_listings_count</th>\n",
       "      <th>availability_365</th>\n",
       "      <th>host_is_superhost</th>\n",
       "      <th>bathrooms</th>\n",
       "      <th>bedrooms</th>\n",
       "      <th>beds</th>\n",
       "      <th>bed_type</th>\n",
       "      <th>cleaning_fee</th>\n",
       "      <th>guests_included</th>\n",
       "      <th>extra_people</th>\n",
       "      <th>maximum_nights</th>\n",
       "      <th>instant_bookable</th>\n",
       "      <th>is_business_travel_ready</th>\n",
       "      <th>cancellation_policy</th>\n",
       "      <th>require_guest_profile_picture</th>\n",
       "      <th>require_guest_phone_verification</th>\n",
       "    </tr>\n",
       "  </thead>\n",
       "  <tbody>\n",
       "    <tr>\n",
       "      <th>0</th>\n",
       "      <td>Palermo</td>\n",
       "      <td>Entire home/apt</td>\n",
       "      <td>1</td>\n",
       "      <td>170</td>\n",
       "      <td>2.48</td>\n",
       "      <td>4</td>\n",
       "      <td>346</td>\n",
       "      <td>t</td>\n",
       "      <td>1.0</td>\n",
       "      <td>0</td>\n",
       "      <td>1</td>\n",
       "      <td>Real Bed</td>\n",
       "      <td>2092</td>\n",
       "      <td>1</td>\n",
       "      <td>0</td>\n",
       "      <td>365</td>\n",
       "      <td>t</td>\n",
       "      <td>f</td>\n",
       "      <td>strict_14_with_grace_period</td>\n",
       "      <td>f</td>\n",
       "      <td>f</td>\n",
       "    </tr>\n",
       "    <tr>\n",
       "      <th>1</th>\n",
       "      <td>Colegiales</td>\n",
       "      <td>Private room</td>\n",
       "      <td>1</td>\n",
       "      <td>11</td>\n",
       "      <td>0.57</td>\n",
       "      <td>1</td>\n",
       "      <td>0</td>\n",
       "      <td>t</td>\n",
       "      <td>1.0</td>\n",
       "      <td>1</td>\n",
       "      <td>1</td>\n",
       "      <td>Real Bed</td>\n",
       "      <td>558</td>\n",
       "      <td>1</td>\n",
       "      <td>0</td>\n",
       "      <td>15</td>\n",
       "      <td>f</td>\n",
       "      <td>f</td>\n",
       "      <td>moderate</td>\n",
       "      <td>f</td>\n",
       "      <td>f</td>\n",
       "    </tr>\n",
       "    <tr>\n",
       "      <th>2</th>\n",
       "      <td>Recoleta</td>\n",
       "      <td>Entire home/apt</td>\n",
       "      <td>3</td>\n",
       "      <td>2</td>\n",
       "      <td>0.08</td>\n",
       "      <td>19</td>\n",
       "      <td>360</td>\n",
       "      <td>f</td>\n",
       "      <td>1.0</td>\n",
       "      <td>0</td>\n",
       "      <td>1</td>\n",
       "      <td>Real Bed</td>\n",
       "      <td>1052</td>\n",
       "      <td>3</td>\n",
       "      <td>351</td>\n",
       "      <td>90</td>\n",
       "      <td>t</td>\n",
       "      <td>f</td>\n",
       "      <td>moderate</td>\n",
       "      <td>f</td>\n",
       "      <td>f</td>\n",
       "    </tr>\n",
       "    <tr>\n",
       "      <th>3</th>\n",
       "      <td>Recoleta</td>\n",
       "      <td>Entire home/apt</td>\n",
       "      <td>2</td>\n",
       "      <td>1</td>\n",
       "      <td>0.13</td>\n",
       "      <td>1</td>\n",
       "      <td>267</td>\n",
       "      <td>f</td>\n",
       "      <td>1.0</td>\n",
       "      <td>1</td>\n",
       "      <td>3</td>\n",
       "      <td>Real Bed</td>\n",
       "      <td>0</td>\n",
       "      <td>4</td>\n",
       "      <td>0</td>\n",
       "      <td>1125</td>\n",
       "      <td>t</td>\n",
       "      <td>f</td>\n",
       "      <td>flexible</td>\n",
       "      <td>f</td>\n",
       "      <td>f</td>\n",
       "    </tr>\n",
       "    <tr>\n",
       "      <th>4</th>\n",
       "      <td>San Nicolás</td>\n",
       "      <td>Entire home/apt</td>\n",
       "      <td>2</td>\n",
       "      <td>31</td>\n",
       "      <td>1.54</td>\n",
       "      <td>5</td>\n",
       "      <td>365</td>\n",
       "      <td>t</td>\n",
       "      <td>1.0</td>\n",
       "      <td>1</td>\n",
       "      <td>3</td>\n",
       "      <td>Real Bed</td>\n",
       "      <td>2092</td>\n",
       "      <td>1</td>\n",
       "      <td>0</td>\n",
       "      <td>365</td>\n",
       "      <td>t</td>\n",
       "      <td>f</td>\n",
       "      <td>moderate</td>\n",
       "      <td>f</td>\n",
       "      <td>f</td>\n",
       "    </tr>\n",
       "  </tbody>\n",
       "</table>\n",
       "</div>"
      ],
      "text/plain": [
       "  neighbourhood        room_type  minimum_nights  number_of_reviews  \\\n",
       "0       Palermo  Entire home/apt               1                170   \n",
       "1    Colegiales     Private room               1                 11   \n",
       "2      Recoleta  Entire home/apt               3                  2   \n",
       "3      Recoleta  Entire home/apt               2                  1   \n",
       "4   San Nicolás  Entire home/apt               2                 31   \n",
       "\n",
       "   reviews_per_month  calculated_host_listings_count  availability_365  \\\n",
       "0               2.48                               4               346   \n",
       "1               0.57                               1                 0   \n",
       "2               0.08                              19               360   \n",
       "3               0.13                               1               267   \n",
       "4               1.54                               5               365   \n",
       "\n",
       "  host_is_superhost  bathrooms  bedrooms  beds  bed_type  cleaning_fee  \\\n",
       "0                 t        1.0         0     1  Real Bed          2092   \n",
       "1                 t        1.0         1     1  Real Bed           558   \n",
       "2                 f        1.0         0     1  Real Bed          1052   \n",
       "3                 f        1.0         1     3  Real Bed             0   \n",
       "4                 t        1.0         1     3  Real Bed          2092   \n",
       "\n",
       "   guests_included  extra_people  maximum_nights instant_bookable  \\\n",
       "0                1             0             365                t   \n",
       "1                1             0              15                f   \n",
       "2                3           351              90                t   \n",
       "3                4             0            1125                t   \n",
       "4                1             0             365                t   \n",
       "\n",
       "  is_business_travel_ready          cancellation_policy  \\\n",
       "0                        f  strict_14_with_grace_period   \n",
       "1                        f                     moderate   \n",
       "2                        f                     moderate   \n",
       "3                        f                     flexible   \n",
       "4                        f                     moderate   \n",
       "\n",
       "  require_guest_profile_picture require_guest_phone_verification  \n",
       "0                             f                                f  \n",
       "1                             f                                f  \n",
       "2                             f                                f  \n",
       "3                             f                                f  \n",
       "4                             f                                f  "
      ]
     },
     "execution_count": 6,
     "metadata": {},
     "output_type": "execute_result"
    }
   ],
   "source": [
    "# delete uninformative features and seperate label\n",
    "y_train = train.price\n",
    "# y_train = y_train.astype('object')\n",
    "X_train = train.drop(['id','last_review','host_since','price'],axis=1).copy()\n",
    "le = LabelEncoder()\n",
    "\n",
    "X_test = test.drop(['id','last_review','host_since'],axis=1).copy()\n",
    "\n",
    "X_train.head()"
   ]
  },
  {
   "cell_type": "code",
   "execution_count": 7,
   "metadata": {},
   "outputs": [
    {
     "data": {
      "text/plain": [
       "neighbourhood                        object\n",
       "room_type                            object\n",
       "minimum_nights                        int64\n",
       "number_of_reviews                     int64\n",
       "reviews_per_month                   float64\n",
       "calculated_host_listings_count        int64\n",
       "availability_365                      int64\n",
       "host_is_superhost                    object\n",
       "bathrooms                           float64\n",
       "bedrooms                              int64\n",
       "beds                                  int64\n",
       "bed_type                             object\n",
       "cleaning_fee                          int64\n",
       "guests_included                       int64\n",
       "extra_people                          int64\n",
       "maximum_nights                        int64\n",
       "instant_bookable                     object\n",
       "is_business_travel_ready             object\n",
       "cancellation_policy                  object\n",
       "require_guest_profile_picture        object\n",
       "require_guest_phone_verification     object\n",
       "dtype: object"
      ]
     },
     "execution_count": 7,
     "metadata": {},
     "output_type": "execute_result"
    }
   ],
   "source": [
    "X_train.dtypes"
   ]
  },
  {
   "cell_type": "code",
   "execution_count": 8,
   "metadata": {},
   "outputs": [
    {
     "data": {
      "text/plain": [
       "Index(['neighbourhood', 'room_type', 'host_is_superhost', 'bed_type',\n",
       "       'instant_bookable', 'is_business_travel_ready', 'cancellation_policy',\n",
       "       'require_guest_profile_picture', 'require_guest_phone_verification'],\n",
       "      dtype='object')"
      ]
     },
     "execution_count": 8,
     "metadata": {},
     "output_type": "execute_result"
    }
   ],
   "source": [
    "factor_feature = X_train.columns[X_train.dtypes==object]\n",
    "factor_feature"
   ]
  },
  {
   "cell_type": "code",
   "execution_count": 9,
   "metadata": {},
   "outputs": [
    {
     "name": "stdout",
     "output_type": "stream",
     "text": [
      "neighbourhood variables:['Palermo' 'Colegiales' 'Recoleta' 'San Nicolás' 'Caballito' 'Núñez'\n",
      " 'Balvanera' 'Constitución' 'Monserrat' 'Retiro' 'San Telmo' 'Belgrano'\n",
      " 'Villa Devoto' 'Puerto Madero' 'Almagro' 'Villa Santa Rita'\n",
      " 'Villa Crespo' 'Villa Urquiza' 'Parque Patricios' 'Coghlan' 'Flores'\n",
      " 'Barracas' 'Agronomía' 'Chacarita' 'Villa Ortúzar' 'Villa del Parque'\n",
      " 'Saavedra' 'Villa Pueyrredón' 'Parque Chacabuco' 'Parque Chas' 'Boedo'\n",
      " 'Monte Castro' 'Floresta' 'La Paternal' 'La Boca' 'San Cristóbal'\n",
      " 'Villa Luro' 'Liniers' 'Mataderos' 'Villa General Mitre'\n",
      " 'Parque Avellaneda' 'Nueva Pompeya' 'Versalles' 'Vélez Sársfield'\n",
      " 'Villa Real']\n",
      "room_type variables:['Entire home/apt' 'Private room' 'Shared room' 'Hotel room']\n",
      "host_is_superhost variables:['t' 'f']\n",
      "bed_type variables:['Real Bed' 'Futon' 'Pull-out Sofa' 'Couch' 'Airbed']\n",
      "instant_bookable variables:['t' 'f']\n",
      "is_business_travel_ready variables:['f']\n",
      "cancellation_policy variables:['strict_14_with_grace_period' 'moderate' 'flexible' 'super_strict_30'\n",
      " 'super_strict_60']\n",
      "require_guest_profile_picture variables:['f' 't']\n",
      "require_guest_phone_verification variables:['f' 't']\n"
     ]
    }
   ],
   "source": [
    "for factor in factor_feature:\n",
    "    print('{} variables:{}'.format(factor, X_train[factor].unique()))"
   ]
  },
  {
   "cell_type": "code",
   "execution_count": 10,
   "metadata": {},
   "outputs": [
    {
     "data": {
      "text/plain": [
       "Index(['minimum_nights', 'number_of_reviews', 'reviews_per_month',\n",
       "       'calculated_host_listings_count', 'availability_365', 'bathrooms',\n",
       "       'bedrooms', 'beds', 'cleaning_fee', 'guests_included', 'extra_people',\n",
       "       'maximum_nights'],\n",
       "      dtype='object')"
      ]
     },
     "execution_count": 10,
     "metadata": {},
     "output_type": "execute_result"
    }
   ],
   "source": [
    "quant_feature = X_train.columns[X_train.dtypes!=object]\n",
    "quant_feature"
   ]
  },
  {
   "cell_type": "code",
   "execution_count": 38,
   "metadata": {},
   "outputs": [
    {
     "data": {
      "text/html": [
       "<div>\n",
       "<style scoped>\n",
       "    .dataframe tbody tr th:only-of-type {\n",
       "        vertical-align: middle;\n",
       "    }\n",
       "\n",
       "    .dataframe tbody tr th {\n",
       "        vertical-align: top;\n",
       "    }\n",
       "\n",
       "    .dataframe thead th {\n",
       "        text-align: right;\n",
       "    }\n",
       "</style>\n",
       "<table border=\"1\" class=\"dataframe\">\n",
       "  <thead>\n",
       "    <tr style=\"text-align: right;\">\n",
       "      <th></th>\n",
       "      <th>minimum_nights</th>\n",
       "      <th>number_of_reviews</th>\n",
       "      <th>reviews_per_month</th>\n",
       "      <th>calculated_host_listings_count</th>\n",
       "      <th>availability_365</th>\n",
       "      <th>bathrooms</th>\n",
       "      <th>bedrooms</th>\n",
       "      <th>beds</th>\n",
       "      <th>cleaning_fee</th>\n",
       "      <th>guests_included</th>\n",
       "      <th>extra_people</th>\n",
       "      <th>maximum_nights</th>\n",
       "    </tr>\n",
       "  </thead>\n",
       "  <tbody>\n",
       "    <tr>\n",
       "      <th>0</th>\n",
       "      <td>1</td>\n",
       "      <td>170</td>\n",
       "      <td>2.48</td>\n",
       "      <td>4</td>\n",
       "      <td>346</td>\n",
       "      <td>1.0</td>\n",
       "      <td>0</td>\n",
       "      <td>1</td>\n",
       "      <td>2092</td>\n",
       "      <td>1</td>\n",
       "      <td>0</td>\n",
       "      <td>365</td>\n",
       "    </tr>\n",
       "    <tr>\n",
       "      <th>1</th>\n",
       "      <td>1</td>\n",
       "      <td>11</td>\n",
       "      <td>0.57</td>\n",
       "      <td>1</td>\n",
       "      <td>0</td>\n",
       "      <td>1.0</td>\n",
       "      <td>1</td>\n",
       "      <td>1</td>\n",
       "      <td>558</td>\n",
       "      <td>1</td>\n",
       "      <td>0</td>\n",
       "      <td>15</td>\n",
       "    </tr>\n",
       "    <tr>\n",
       "      <th>2</th>\n",
       "      <td>3</td>\n",
       "      <td>2</td>\n",
       "      <td>0.08</td>\n",
       "      <td>19</td>\n",
       "      <td>360</td>\n",
       "      <td>1.0</td>\n",
       "      <td>0</td>\n",
       "      <td>1</td>\n",
       "      <td>1052</td>\n",
       "      <td>3</td>\n",
       "      <td>351</td>\n",
       "      <td>90</td>\n",
       "    </tr>\n",
       "    <tr>\n",
       "      <th>3</th>\n",
       "      <td>2</td>\n",
       "      <td>1</td>\n",
       "      <td>0.13</td>\n",
       "      <td>1</td>\n",
       "      <td>267</td>\n",
       "      <td>1.0</td>\n",
       "      <td>1</td>\n",
       "      <td>3</td>\n",
       "      <td>0</td>\n",
       "      <td>4</td>\n",
       "      <td>0</td>\n",
       "      <td>1125</td>\n",
       "    </tr>\n",
       "    <tr>\n",
       "      <th>4</th>\n",
       "      <td>2</td>\n",
       "      <td>31</td>\n",
       "      <td>1.54</td>\n",
       "      <td>5</td>\n",
       "      <td>365</td>\n",
       "      <td>1.0</td>\n",
       "      <td>1</td>\n",
       "      <td>3</td>\n",
       "      <td>2092</td>\n",
       "      <td>1</td>\n",
       "      <td>0</td>\n",
       "      <td>365</td>\n",
       "    </tr>\n",
       "    <tr>\n",
       "      <th>...</th>\n",
       "      <td>...</td>\n",
       "      <td>...</td>\n",
       "      <td>...</td>\n",
       "      <td>...</td>\n",
       "      <td>...</td>\n",
       "      <td>...</td>\n",
       "      <td>...</td>\n",
       "      <td>...</td>\n",
       "      <td>...</td>\n",
       "      <td>...</td>\n",
       "      <td>...</td>\n",
       "      <td>...</td>\n",
       "    </tr>\n",
       "    <tr>\n",
       "      <th>9676</th>\n",
       "      <td>7</td>\n",
       "      <td>7</td>\n",
       "      <td>0.89</td>\n",
       "      <td>2</td>\n",
       "      <td>328</td>\n",
       "      <td>1.5</td>\n",
       "      <td>1</td>\n",
       "      <td>1</td>\n",
       "      <td>700</td>\n",
       "      <td>1</td>\n",
       "      <td>0</td>\n",
       "      <td>185</td>\n",
       "    </tr>\n",
       "    <tr>\n",
       "      <th>9677</th>\n",
       "      <td>1</td>\n",
       "      <td>5</td>\n",
       "      <td>0.43</td>\n",
       "      <td>1</td>\n",
       "      <td>0</td>\n",
       "      <td>2.0</td>\n",
       "      <td>2</td>\n",
       "      <td>5</td>\n",
       "      <td>1500</td>\n",
       "      <td>6</td>\n",
       "      <td>500</td>\n",
       "      <td>30</td>\n",
       "    </tr>\n",
       "    <tr>\n",
       "      <th>9678</th>\n",
       "      <td>3</td>\n",
       "      <td>1</td>\n",
       "      <td>0.30</td>\n",
       "      <td>28</td>\n",
       "      <td>174</td>\n",
       "      <td>1.0</td>\n",
       "      <td>0</td>\n",
       "      <td>2</td>\n",
       "      <td>3492</td>\n",
       "      <td>1</td>\n",
       "      <td>0</td>\n",
       "      <td>180</td>\n",
       "    </tr>\n",
       "    <tr>\n",
       "      <th>9679</th>\n",
       "      <td>2</td>\n",
       "      <td>28</td>\n",
       "      <td>0.58</td>\n",
       "      <td>1</td>\n",
       "      <td>0</td>\n",
       "      <td>2.0</td>\n",
       "      <td>3</td>\n",
       "      <td>3</td>\n",
       "      <td>900</td>\n",
       "      <td>1</td>\n",
       "      <td>0</td>\n",
       "      <td>1125</td>\n",
       "    </tr>\n",
       "    <tr>\n",
       "      <th>9680</th>\n",
       "      <td>2</td>\n",
       "      <td>1</td>\n",
       "      <td>0.04</td>\n",
       "      <td>1</td>\n",
       "      <td>88</td>\n",
       "      <td>2.0</td>\n",
       "      <td>1</td>\n",
       "      <td>1</td>\n",
       "      <td>1395</td>\n",
       "      <td>1</td>\n",
       "      <td>0</td>\n",
       "      <td>1125</td>\n",
       "    </tr>\n",
       "  </tbody>\n",
       "</table>\n",
       "<p>9681 rows × 12 columns</p>\n",
       "</div>"
      ],
      "text/plain": [
       "      minimum_nights  number_of_reviews  reviews_per_month  \\\n",
       "0                  1                170               2.48   \n",
       "1                  1                 11               0.57   \n",
       "2                  3                  2               0.08   \n",
       "3                  2                  1               0.13   \n",
       "4                  2                 31               1.54   \n",
       "...              ...                ...                ...   \n",
       "9676               7                  7               0.89   \n",
       "9677               1                  5               0.43   \n",
       "9678               3                  1               0.30   \n",
       "9679               2                 28               0.58   \n",
       "9680               2                  1               0.04   \n",
       "\n",
       "      calculated_host_listings_count  availability_365  bathrooms  bedrooms  \\\n",
       "0                                  4               346        1.0         0   \n",
       "1                                  1                 0        1.0         1   \n",
       "2                                 19               360        1.0         0   \n",
       "3                                  1               267        1.0         1   \n",
       "4                                  5               365        1.0         1   \n",
       "...                              ...               ...        ...       ...   \n",
       "9676                               2               328        1.5         1   \n",
       "9677                               1                 0        2.0         2   \n",
       "9678                              28               174        1.0         0   \n",
       "9679                               1                 0        2.0         3   \n",
       "9680                               1                88        2.0         1   \n",
       "\n",
       "      beds  cleaning_fee  guests_included  extra_people  maximum_nights  \n",
       "0        1          2092                1             0             365  \n",
       "1        1           558                1             0              15  \n",
       "2        1          1052                3           351              90  \n",
       "3        3             0                4             0            1125  \n",
       "4        3          2092                1             0             365  \n",
       "...    ...           ...              ...           ...             ...  \n",
       "9676     1           700                1             0             185  \n",
       "9677     5          1500                6           500              30  \n",
       "9678     2          3492                1             0             180  \n",
       "9679     3           900                1             0            1125  \n",
       "9680     1          1395                1             0            1125  \n",
       "\n",
       "[9681 rows x 12 columns]"
      ]
     },
     "execution_count": 38,
     "metadata": {},
     "output_type": "execute_result"
    }
   ],
   "source": [
    "X_train[quant_feature]"
   ]
  },
  {
   "cell_type": "code",
   "execution_count": 39,
   "metadata": {},
   "outputs": [],
   "source": [
    "# normalize quant_feature\n",
    "X_train[quant_feature] = (X_train[quant_feature]-X_train[quant_feature].mean())/X_train[quant_feature].std()"
   ]
  },
  {
   "cell_type": "code",
   "execution_count": 19,
   "metadata": {},
   "outputs": [
    {
     "data": {
      "image/png": "[encoded data removed]",
      "text/plain": [
       "<Figure size 432x288 with 1 Axes>"
      ]
     },
     "metadata": {
      "needs_background": "light"
     },
     "output_type": "display_data"
    }
   ],
   "source": [
    "plt.hist(y_train.values);\n",
    "# have similar amount for each class"
   ]
  },
  {
   "cell_type": "code",
   "execution_count": 29,
   "metadata": {},
   "outputs": [
    {
     "data": {
      "text/plain": [
       "room_type\n",
       "Entire home/apt    AxesSubplot(0.125,0.125;0.775x0.755)\n",
       "Hotel room         AxesSubplot(0.125,0.125;0.775x0.755)\n",
       "Private room       AxesSubplot(0.125,0.125;0.775x0.755)\n",
       "Shared room        AxesSubplot(0.125,0.125;0.775x0.755)\n",
       "Name: price, dtype: object"
      ]
     },
     "execution_count": 29,
     "metadata": {},
     "output_type": "execute_result"
    },
    {
     "data": {
      "image/png": "[encoded data removed]",
      "text/plain": [
       "<Figure size 432x288 with 1 Axes>"
      ]
     },
     "metadata": {
      "needs_background": "light"
     },
     "output_type": "display_data"
    }
   ],
   "source": [
    "# feature to y relation\n",
    "train.groupby('room_type')['price'].plot()"
   ]
  },
  {
   "cell_type": "code",
   "execution_count": 30,
   "metadata": {},
   "outputs": [
    {
     "data": {
      "text/plain": [
       "Entire home/apt    8366\n",
       "Private room       1183\n",
       "Shared room          67\n",
       "Hotel room           65\n",
       "Name: room_type, dtype: int64"
      ]
     },
     "execution_count": 30,
     "metadata": {},
     "output_type": "execute_result"
    }
   ],
   "source": [
    "train.room_type.value_counts()"
   ]
  },
  {
   "cell_type": "markdown",
   "metadata": {},
   "source": [
    "## 2. create the first model/benchmark with Multiclass logistic regression"
   ]
  },
  {
   "cell_type": "markdown",
   "metadata": {},
   "source": [
    "### i all feature and dummy and normalization with MLR"
   ]
  },
  {
   "cell_type": "code",
   "execution_count": 51,
   "metadata": {},
   "outputs": [],
   "source": [
    "X1, X2, y1, y2 = train_test_split(X_train, y_train, test_size=0.3)\n",
    "\n",
    "X1 = pd.get_dummies(X1)\n",
    "X2 = pd.get_dummies(X2)\n",
    "\n",
    "missing_cols = set( X1.columns ) - set( X2.columns )\n",
    "for c in missing_cols:\n",
    "    X2[c] = 0\n",
    "X2 = X2[X1.columns]"
   ]
  },
  {
   "cell_type": "code",
   "execution_count": 68,
   "metadata": {},
   "outputs": [
    {
     "data": {
      "text/plain": [
       "LogisticRegression(C=1.0, class_weight=None, dual=False, fit_intercept=True,\n",
       "                   intercept_scaling=1, l1_ratio=None, max_iter=1000,\n",
       "                   multi_class='auto', n_jobs=-1, penalty='l2',\n",
       "                   random_state=None, solver='lbfgs', tol=0.0001, verbose=0,\n",
       "                   warm_start=False)"
      ]
     },
     "execution_count": 68,
     "metadata": {},
     "output_type": "execute_result"
    }
   ],
   "source": [
    "clf = LogisticRegression(max_iter=1000, n_jobs=-1)\n",
    "clf.fit(X1, y1)"
   ]
  },
  {
   "cell_type": "code",
   "execution_count": 69,
   "metadata": {},
   "outputs": [
    {
     "data": {
      "text/plain": [
       "0.509887839433294"
      ]
     },
     "execution_count": 69,
     "metadata": {},
     "output_type": "execute_result"
    }
   ],
   "source": [
    "clf.score(X1, y1)"
   ]
  },
  {
   "cell_type": "code",
   "execution_count": 70,
   "metadata": {},
   "outputs": [
    {
     "data": {
      "text/plain": [
       "0.4729776247848537"
      ]
     },
     "execution_count": 70,
     "metadata": {},
     "output_type": "execute_result"
    }
   ],
   "source": [
    "clf.score(X2, y2)"
   ]
  },
  {
   "cell_type": "markdown",
   "metadata": {},
   "source": [
    "### ii quant feature with normalization with MLR"
   ]
  },
  {
   "cell_type": "code",
   "execution_count": 46,
   "metadata": {},
   "outputs": [
    {
     "data": {
      "text/plain": [
       "LogisticRegression(C=1.0, class_weight=None, dual=False, fit_intercept=True,\n",
       "                   intercept_scaling=1, l1_ratio=None, max_iter=1000,\n",
       "                   multi_class='auto', n_jobs=None, penalty='l2',\n",
       "                   random_state=None, solver='lbfgs', tol=0.0001, verbose=0,\n",
       "                   warm_start=False)"
      ]
     },
     "execution_count": 46,
     "metadata": {},
     "output_type": "execute_result"
    }
   ],
   "source": [
    "X1, X2, y1, y2 = train_test_split(X_train[quant_feature], y_train, test_size=0.3)\n",
    "clf = LogisticRegression(max_iter=1000)\n",
    "clf.fit(X1, y1)"
   ]
  },
  {
   "cell_type": "code",
   "execution_count": 47,
   "metadata": {},
   "outputs": [
    {
     "data": {
      "text/plain": [
       "(0.4693034238488784, 0.4664371772805508)"
      ]
     },
     "execution_count": 47,
     "metadata": {},
     "output_type": "execute_result"
    }
   ],
   "source": [
    "clf.score(X1, y1), clf.score(X2, y2)"
   ]
  },
  {
   "cell_type": "markdown",
   "metadata": {},
   "source": [
    "### ii factor feature with normalization with MLR"
   ]
  },
  {
   "cell_type": "code",
   "execution_count": 48,
   "metadata": {},
   "outputs": [
    {
     "data": {
      "text/plain": [
       "LogisticRegression(C=1.0, class_weight=None, dual=False, fit_intercept=True,\n",
       "                   intercept_scaling=1, l1_ratio=None, max_iter=1000,\n",
       "                   multi_class='auto', n_jobs=None, penalty='l2',\n",
       "                   random_state=None, solver='lbfgs', tol=0.0001, verbose=0,\n",
       "                   warm_start=False)"
      ]
     },
     "execution_count": 48,
     "metadata": {},
     "output_type": "execute_result"
    }
   ],
   "source": [
    "X1, X2, y1, y2 = train_test_split(X_train[factor_feature], y_train, test_size=0.3)\n",
    "\n",
    "X1 = pd.get_dummies(X1)\n",
    "X2 = pd.get_dummies(X2)\n",
    "\n",
    "missing_cols = set( X1.columns ) - set( X2.columns )\n",
    "for c in missing_cols:\n",
    "    X2[c] = 0\n",
    "X2 = X2[X1.columns]\n",
    "\n",
    "clf = LogisticRegression(max_iter=1000)\n",
    "clf.fit(X1, y1)"
   ]
  },
  {
   "cell_type": "code",
   "execution_count": 49,
   "metadata": {},
   "outputs": [
    {
     "data": {
      "text/plain": [
       "(0.4141086186540732, 0.3855421686746988)"
      ]
     },
     "execution_count": 49,
     "metadata": {},
     "output_type": "execute_result"
    }
   ],
   "source": [
    "clf.score(X1, y1), clf.score(X2, y2)"
   ]
  },
  {
   "cell_type": "markdown",
   "metadata": {},
   "source": [
    "## XGboost\n",
    "\n",
    "### 1. dataset of all with dummies"
   ]
  },
  {
   "cell_type": "code",
   "execution_count": 62,
   "metadata": {},
   "outputs": [],
   "source": [
    "X1, X2, y1, y2 = train_test_split(X_train, y_train, test_size=0.3)\n",
    "\n",
    "X1 = pd.get_dummies(X1)\n",
    "X2 = pd.get_dummies(X2)\n",
    "\n",
    "missing_cols = set( X1.columns ) - set( X2.columns )\n",
    "for c in missing_cols:\n",
    "    X2[c] = 0\n",
    "X2 = X2[X1.columns]"
   ]
  },
  {
   "cell_type": "code",
   "execution_count": 44,
   "metadata": {},
   "outputs": [],
   "source": [
    "clf = XGBClassifier(n_estimators=100, n_jobs=-1, learning_rate=0.1)"
   ]
  },
  {
   "cell_type": "code",
   "execution_count": 45,
   "metadata": {},
   "outputs": [
    {
     "data": {
      "text/plain": [
       "XGBClassifier(base_score=0.5, booster='gbtree', colsample_bylevel=1,\n",
       "              colsample_bynode=1, colsample_bytree=1, gamma=0, gpu_id=-1,\n",
       "              importance_type='gain', interaction_constraints='',\n",
       "              learning_rate=0.1, max_delta_step=0, max_depth=6,\n",
       "              min_child_weight=1, missing=nan, monotone_constraints='()',\n",
       "              n_estimators=100, n_jobs=-1, num_parallel_tree=1,\n",
       "              objective='multi:softprob', random_state=0, reg_alpha=0,\n",
       "              reg_lambda=1, scale_pos_weight=None, subsample=1,\n",
       "              tree_method='exact', validate_parameters=1, verbosity=None)"
      ]
     },
     "execution_count": 45,
     "metadata": {},
     "output_type": "execute_result"
    }
   ],
   "source": [
    "clf.fit(X1, y1)"
   ]
  },
  {
   "cell_type": "code",
   "execution_count": 46,
   "metadata": {},
   "outputs": [
    {
     "name": "stdout",
     "output_type": "stream",
     "text": [
      "train/test accuracy:0.7460153482880756/0.49845094664371775\n"
     ]
    }
   ],
   "source": [
    "print('train/test accuracy:{}/{}'.format(sum(clf.predict(X1)==y1)/len(y1), sum(clf.predict(X2)==y2)/len(y2)))"
   ]
  },
  {
   "cell_type": "markdown",
   "metadata": {},
   "source": [
    "### 1. dataset of quants"
   ]
  },
  {
   "cell_type": "code",
   "execution_count": 47,
   "metadata": {},
   "outputs": [],
   "source": [
    "X1, X2, y1, y2 = train_test_split(X_train[quant_feature], y_train, test_size=0.3)"
   ]
  },
  {
   "cell_type": "code",
   "execution_count": 63,
   "metadata": {},
   "outputs": [
    {
     "data": {
      "text/plain": [
       "XGBClassifier(base_score=0.5, booster='gbtree', colsample_bylevel=1,\n",
       "              colsample_bynode=1, colsample_bytree=1, gamma=0.1, gpu_id=-1,\n",
       "              importance_type='gain', interaction_constraints='',\n",
       "              learning_rate=0.01, max_delta_step=0, max_depth=10,\n",
       "              min_child_weight=1, missing=nan, monotone_constraints='()',\n",
       "              n_estimators=500, n_jobs=0, num_parallel_tree=1,\n",
       "              objective='multi:softprob', random_state=0, reg_alpha=1,\n",
       "              reg_lambda=1, scale_pos_weight=None, subsample=1,\n",
       "              tree_method='exact', validate_parameters=1, verbosity=None)"
      ]
     },
     "execution_count": 63,
     "metadata": {},
     "output_type": "execute_result"
    }
   ],
   "source": [
    "clf = XGBClassifier(n_estimators=500, max_depth=10, learning_rate = 0.01, gamma =0.1, reg_alpha=1)\n",
    "clf.fit(X1, y1)"
   ]
  },
  {
   "cell_type": "code",
   "execution_count": 64,
   "metadata": {},
   "outputs": [
    {
     "name": "stdout",
     "output_type": "stream",
     "text": [
      "train/test accuracy:0.8938902007083825/0.5046471600688468\n"
     ]
    }
   ],
   "source": [
    "print('train/test accuracy:{}/{}'.format(sum(clf.predict(X1)==y1)/len(y1), sum(clf.predict(X2)==y2)/len(y2)))"
   ]
  },
  {
   "cell_type": "markdown",
   "metadata": {},
   "source": [
    "### tuning parameters"
   ]
  },
  {
   "cell_type": "code",
   "execution_count": 50,
   "metadata": {},
   "outputs": [],
   "source": [
    "n_est = 200\n",
    "max_d = [3, 5, 8, 10]\n",
    "lr = [0.1, 0.01, 0.001]\n",
    "ga = [10, 5, 1, 0.5, 0.1]\n",
    "alpha=[10, 1, 0.1]"
   ]
  },
  {
   "cell_type": "code",
   "execution_count": 51,
   "metadata": {},
   "outputs": [
    {
     "name": "stdout",
     "output_type": "stream",
     "text": [
      "max_d:3 lr:0.1 ga:10 alpha:10\n",
      "train/test accuracy:0.42340613931523025/0.43580034423407915\n",
      "max_d:3 lr:0.1 ga:10 alpha:1\n",
      "train/test accuracy:0.432556080283353/0.444750430292599\n",
      "max_d:3 lr:0.1 ga:10 alpha:0.1\n",
      "train/test accuracy:0.4332939787485242/0.44440619621342514\n",
      "max_d:3 lr:0.1 ga:5 alpha:10\n",
      "train/test accuracy:0.4445100354191263/0.4499139414802065\n",
      "max_d:3 lr:0.1 ga:5 alpha:1\n",
      "train/test accuracy:0.46266233766233766/0.4585197934595525\n",
      "max_d:3 lr:0.1 ga:5 alpha:0.1\n",
      "train/test accuracy:0.46605667060212513/0.45714285714285713\n",
      "max_d:3 lr:0.1 ga:1 alpha:10\n",
      "train/test accuracy:0.48760330578512395/0.4667814113597246\n",
      "max_d:3 lr:0.1 ga:1 alpha:1\n",
      "train/test accuracy:0.5497343565525383/0.48881239242685026\n",
      "max_d:3 lr:0.1 ga:1 alpha:0.1\n",
      "train/test accuracy:0.5422077922077922/0.4784853700516351\n",
      "max_d:3 lr:0.1 ga:0.5 alpha:10\n",
      "train/test accuracy:0.5091499409681228/0.480895008605852\n",
      "max_d:3 lr:0.1 ga:0.5 alpha:1\n",
      "train/test accuracy:0.5610979929161747/0.48846815834767643\n",
      "max_d:3 lr:0.1 ga:0.5 alpha:0.1\n",
      "train/test accuracy:0.5618358913813459/0.4846815834767642\n",
      "max_d:3 lr:0.1 ga:0.1 alpha:10\n",
      "train/test accuracy:0.5146103896103896/0.4843373493975904\n",
      "max_d:3 lr:0.1 ga:0.1 alpha:1\n",
      "train/test accuracy:0.5596221959858324/0.4881239242685026\n",
      "max_d:3 lr:0.1 ga:0.1 alpha:0.1\n",
      "train/test accuracy:0.5590318772136954/0.48502581755593804\n",
      "max_d:3 lr:0.01 ga:10 alpha:10\n",
      "train/test accuracy:0.41661747343565525/0.4282271944922547\n",
      "max_d:3 lr:0.01 ga:10 alpha:1\n",
      "train/test accuracy:0.426357733175915/0.4351118760757315\n",
      "max_d:3 lr:0.01 ga:10 alpha:0.1\n",
      "train/test accuracy:0.42665289256198347/0.43614457831325304\n",
      "max_d:3 lr:0.01 ga:5 alpha:10\n",
      "train/test accuracy:0.43108028335301063/0.43476764199655765\n",
      "max_d:3 lr:0.01 ga:5 alpha:1\n",
      "train/test accuracy:0.4437721369539551/0.446815834767642\n",
      "max_d:3 lr:0.01 ga:5 alpha:0.1\n",
      "train/test accuracy:0.44391971664698937/0.4499139414802065\n",
      "max_d:3 lr:0.01 ga:1 alpha:10\n",
      "train/test accuracy:0.44642857142857145/0.4461273666092943\n",
      "max_d:3 lr:0.01 ga:1 alpha:1\n",
      "train/test accuracy:0.44805194805194803/0.448881239242685\n",
      "max_d:3 lr:0.01 ga:1 alpha:0.1\n",
      "train/test accuracy:0.448642266824085/0.44647160068846814\n",
      "max_d:3 lr:0.01 ga:0.5 alpha:10\n",
      "train/test accuracy:0.44657615112160565/0.446815834767642\n",
      "max_d:3 lr:0.01 ga:0.5 alpha:1\n",
      "train/test accuracy:0.4493801652892562/0.44922547332185886\n",
      "max_d:3 lr:0.01 ga:0.5 alpha:0.1\n",
      "train/test accuracy:0.44908500590318773/0.44647160068846814\n",
      "max_d:3 lr:0.01 ga:0.1 alpha:10\n",
      "train/test accuracy:0.44657615112160565/0.444750430292599\n",
      "max_d:3 lr:0.01 ga:0.1 alpha:1\n",
      "train/test accuracy:0.44908500590318773/0.448881239242685\n",
      "max_d:3 lr:0.01 ga:0.1 alpha:0.1\n",
      "train/test accuracy:0.44908500590318773/0.44647160068846814\n",
      "max_d:3 lr:0.001 ga:10 alpha:10\n",
      "train/test accuracy:0.40466351829988195/0.42994836488812394\n",
      "max_d:3 lr:0.001 ga:10 alpha:1\n",
      "train/test accuracy:0.4135182998819362/0.43993115318416526\n",
      "max_d:3 lr:0.001 ga:10 alpha:0.1\n",
      "train/test accuracy:0.41617473435655256/0.43958691910499137\n",
      "max_d:3 lr:0.001 ga:5 alpha:10\n",
      "train/test accuracy:0.40731995277449823/0.4351118760757315\n",
      "max_d:3 lr:0.001 ga:5 alpha:1\n",
      "train/test accuracy:0.4142561983471074/0.43235800344234077\n",
      "max_d:3 lr:0.001 ga:5 alpha:0.1\n",
      "train/test accuracy:0.41469893742621017/0.43717728055077454\n",
      "max_d:3 lr:0.001 ga:1 alpha:10\n",
      "train/test accuracy:0.41012396694214875/0.42547332185886405\n",
      "max_d:3 lr:0.001 ga:1 alpha:1\n",
      "train/test accuracy:0.4189787485242031/0.43407917383821\n",
      "max_d:3 lr:0.001 ga:1 alpha:0.1\n",
      "train/test accuracy:0.4200118063754427/0.43820998278829604\n",
      "max_d:3 lr:0.001 ga:0.5 alpha:10\n",
      "train/test accuracy:0.41012396694214875/0.42547332185886405\n",
      "max_d:3 lr:0.001 ga:0.5 alpha:1\n",
      "train/test accuracy:0.4189787485242031/0.43407917383821\n",
      "max_d:3 lr:0.001 ga:0.5 alpha:0.1\n",
      "train/test accuracy:0.4200118063754427/0.43820998278829604\n",
      "max_d:3 lr:0.001 ga:0.1 alpha:10\n",
      "train/test accuracy:0.41012396694214875/0.42547332185886405\n",
      "max_d:3 lr:0.001 ga:0.1 alpha:1\n",
      "train/test accuracy:0.4189787485242031/0.43407917383821\n",
      "max_d:3 lr:0.001 ga:0.1 alpha:0.1\n",
      "train/test accuracy:0.4200118063754427/0.43820998278829604\n",
      "max_d:5 lr:0.1 ga:10 alpha:10\n",
      "train/test accuracy:0.429456906729634/0.44199655765920826\n",
      "max_d:5 lr:0.1 ga:10 alpha:1\n",
      "train/test accuracy:0.44229634002361273/0.4406196213425129\n",
      "max_d:5 lr:0.1 ga:10 alpha:0.1\n",
      "train/test accuracy:0.43890200708382526/0.444750430292599\n",
      "max_d:5 lr:0.1 ga:5 alpha:10\n",
      "train/test accuracy:0.4520365997638725/0.4557659208261618\n",
      "max_d:5 lr:0.1 ga:5 alpha:1\n",
      "train/test accuracy:0.4911452184179457/0.46953528399311534\n",
      "max_d:5 lr:0.1 ga:5 alpha:0.1\n",
      "train/test accuracy:0.4942443919716647/0.470223752151463\n",
      "max_d:5 lr:0.1 ga:1 alpha:10\n",
      "train/test accuracy:0.5224321133412042/0.4822719449225473\n",
      "max_d:5 lr:0.1 ga:1 alpha:1\n",
      "train/test accuracy:0.6824085005903188/0.4919104991394148\n",
      "max_d:5 lr:0.1 ga:1 alpha:0.1\n",
      "train/test accuracy:0.6927390791027155/0.4857142857142857\n",
      "max_d:5 lr:0.1 ga:0.5 alpha:10\n",
      "train/test accuracy:0.5670011806375442/0.48605851979345954\n",
      "max_d:5 lr:0.1 ga:0.5 alpha:1\n",
      "train/test accuracy:0.7252066115702479/0.49225473321858865\n",
      "max_d:5 lr:0.1 ga:0.5 alpha:0.1\n",
      "train/test accuracy:0.7290436835891382/0.48743545611015493\n",
      "max_d:5 lr:0.1 ga:0.1 alpha:10\n",
      "train/test accuracy:0.5948937426210154/0.48502581755593804\n",
      "max_d:5 lr:0.1 ga:0.1 alpha:1\n",
      "train/test accuracy:0.7368654073199528/0.49810671256454386\n",
      "max_d:5 lr:0.1 ga:0.1 alpha:0.1\n",
      "train/test accuracy:0.7290436835891382/0.49500860585197937\n",
      "max_d:5 lr:0.01 ga:10 alpha:10\n",
      "train/test accuracy:0.416469893742621/0.42994836488812394\n",
      "max_d:5 lr:0.01 ga:10 alpha:1\n",
      "train/test accuracy:0.43358913813459266/0.4378657487091222\n",
      "max_d:5 lr:0.01 ga:10 alpha:0.1\n",
      "train/test accuracy:0.436245572609209/0.43752151462994837\n",
      "max_d:5 lr:0.01 ga:5 alpha:10\n",
      "train/test accuracy:0.4430342384887839/0.45025817555938036\n",
      "max_d:5 lr:0.01 ga:5 alpha:1\n",
      "train/test accuracy:0.4635478158205431/0.4585197934595525\n",
      "max_d:5 lr:0.01 ga:5 alpha:0.1\n",
      "train/test accuracy:0.4704840613931523/0.45989672977624785\n",
      "max_d:5 lr:0.01 ga:1 alpha:10\n",
      "train/test accuracy:0.47461629279811096/0.46092943201376935\n",
      "max_d:5 lr:0.01 ga:1 alpha:1\n",
      "train/test accuracy:0.5078217237308147/0.4664371772805508\n",
      "max_d:5 lr:0.01 ga:1 alpha:0.1\n",
      "train/test accuracy:0.5126918536009445/0.4650602409638554\n",
      "max_d:5 lr:0.01 ga:0.5 alpha:10\n",
      "train/test accuracy:0.47771546635183/0.461617900172117\n",
      "max_d:5 lr:0.01 ga:0.5 alpha:1\n",
      "train/test accuracy:0.5084120425029516/0.4657487091222031\n",
      "max_d:5 lr:0.01 ga:0.5 alpha:0.1\n",
      "train/test accuracy:0.5115112160566706/0.46471600688468157\n",
      "max_d:5 lr:0.01 ga:0.1 alpha:10\n",
      "train/test accuracy:0.4817001180637544/0.46368330464716007\n",
      "max_d:5 lr:0.01 ga:0.1 alpha:1\n",
      "train/test accuracy:0.5094451003541912/0.46609294320137695\n",
      "max_d:5 lr:0.01 ga:0.1 alpha:0.1\n",
      "train/test accuracy:0.51357733175915/0.4667814113597246\n",
      "max_d:5 lr:0.001 ga:10 alpha:10\n",
      "train/test accuracy:0.40613931523022434/0.42925989672977627\n",
      "max_d:5 lr:0.001 ga:10 alpha:1\n",
      "train/test accuracy:0.42266824085005905/0.4351118760757315\n",
      "max_d:5 lr:0.001 ga:10 alpha:0.1\n",
      "train/test accuracy:0.423258559622196/0.4306368330464716\n",
      "max_d:5 lr:0.001 ga:5 alpha:10\n",
      "train/test accuracy:0.4268004722550177/0.43029259896729777\n",
      "max_d:5 lr:0.001 ga:5 alpha:1\n",
      "train/test accuracy:0.43211334120425027/0.4296041308089501\n",
      "max_d:5 lr:0.001 ga:5 alpha:0.1\n",
      "train/test accuracy:0.43432703659976385/0.42925989672977627\n",
      "max_d:5 lr:0.001 ga:1 alpha:10\n",
      "train/test accuracy:0.44141086186540734/0.43373493975903615\n",
      "max_d:5 lr:0.001 ga:1 alpha:1\n",
      "train/test accuracy:0.4543978748524203/0.43029259896729777\n",
      "max_d:5 lr:0.001 ga:1 alpha:0.1\n",
      "train/test accuracy:0.4520365997638725/0.42891566265060244\n",
      "max_d:5 lr:0.001 ga:0.5 alpha:10\n",
      "train/test accuracy:0.4412632821723731/0.4316695352839931\n",
      "max_d:5 lr:0.001 ga:0.5 alpha:1\n",
      "train/test accuracy:0.4549881936245573/0.4306368330464716\n",
      "max_d:5 lr:0.001 ga:0.5 alpha:0.1\n",
      "train/test accuracy:0.45292207792207795/0.42891566265060244\n",
      "max_d:5 lr:0.001 ga:0.1 alpha:10\n",
      "train/test accuracy:0.442443919716647/0.43029259896729777\n",
      "max_d:5 lr:0.001 ga:0.1 alpha:1\n",
      "train/test accuracy:0.4551357733175915/0.43098106712564543\n",
      "max_d:5 lr:0.001 ga:0.1 alpha:0.1\n",
      "train/test accuracy:0.45292207792207795/0.42891566265060244\n",
      "max_d:8 lr:0.1 ga:10 alpha:10\n",
      "train/test accuracy:0.42193034238488786/0.43752151462994837\n",
      "max_d:8 lr:0.1 ga:10 alpha:1\n",
      "train/test accuracy:0.44421487603305787/0.4423407917383821\n"
     ]
    },
    {
     "name": "stdout",
     "output_type": "stream",
     "text": [
      "max_d:8 lr:0.1 ga:10 alpha:0.1\n",
      "train/test accuracy:0.44687131050767415/0.4523235800344234\n",
      "max_d:8 lr:0.1 ga:5 alpha:10\n",
      "train/test accuracy:0.45011806375442737/0.4585197934595525\n",
      "max_d:8 lr:0.1 ga:5 alpha:1\n",
      "train/test accuracy:0.5119539551357734/0.4784853700516351\n",
      "max_d:8 lr:0.1 ga:5 alpha:0.1\n",
      "train/test accuracy:0.5323199527744983/0.4771084337349398\n",
      "max_d:8 lr:0.1 ga:1 alpha:10\n",
      "train/test accuracy:0.5546044864226682/0.48709122203098104\n",
      "max_d:8 lr:0.1 ga:1 alpha:1\n",
      "train/test accuracy:0.8472550177095631/0.48158347676419966\n",
      "max_d:8 lr:0.1 ga:1 alpha:0.1\n",
      "train/test accuracy:0.8698347107438017/0.4853700516351119\n",
      "max_d:8 lr:0.1 ga:0.5 alpha:10\n",
      "train/test accuracy:0.6375442739079102/0.4864027538726334\n",
      "max_d:8 lr:0.1 ga:0.5 alpha:1\n",
      "train/test accuracy:0.9324085005903188/0.48261617900172116\n",
      "max_d:8 lr:0.1 ga:0.5 alpha:0.1\n",
      "train/test accuracy:0.9489374262101535/0.4750430292598967\n",
      "max_d:8 lr:0.1 ga:0.1 alpha:10\n",
      "train/test accuracy:0.680047225501771/0.48502581755593804\n",
      "max_d:8 lr:0.1 ga:0.1 alpha:1\n",
      "train/test accuracy:0.9710743801652892/0.47160068846815834\n",
      "max_d:8 lr:0.1 ga:0.1 alpha:0.1\n",
      "train/test accuracy:0.9614817001180638/0.4764199655765921\n",
      "max_d:8 lr:0.01 ga:10 alpha:10\n",
      "train/test accuracy:0.4210448642266824/0.4330464716006885\n",
      "max_d:8 lr:0.01 ga:10 alpha:1\n",
      "train/test accuracy:0.436245572609209/0.4423407917383821\n",
      "max_d:8 lr:0.01 ga:10 alpha:0.1\n",
      "train/test accuracy:0.43993506493506496/0.4423407917383821\n",
      "max_d:8 lr:0.01 ga:5 alpha:10\n",
      "train/test accuracy:0.4412632821723731/0.4533562822719449\n",
      "max_d:8 lr:0.01 ga:5 alpha:1\n",
      "train/test accuracy:0.4884887839433294/0.46712564543889845\n",
      "max_d:8 lr:0.01 ga:5 alpha:0.1\n",
      "train/test accuracy:0.5054604486422668/0.4674698795180723\n",
      "max_d:8 lr:0.01 ga:1 alpha:10\n",
      "train/test accuracy:0.5047225501770957/0.46712564543889845\n",
      "max_d:8 lr:0.01 ga:1 alpha:1\n",
      "train/test accuracy:0.6182113341204251/0.47091222030981067\n",
      "max_d:8 lr:0.01 ga:1 alpha:0.1\n",
      "train/test accuracy:0.650974025974026/0.4664371772805508\n",
      "max_d:8 lr:0.01 ga:0.5 alpha:10\n",
      "train/test accuracy:0.5206611570247934/0.46471600688468157\n",
      "max_d:8 lr:0.01 ga:0.5 alpha:1\n",
      "train/test accuracy:0.640495867768595/0.4640275387263339\n",
      "max_d:8 lr:0.01 ga:0.5 alpha:0.1\n",
      "train/test accuracy:0.663370720188902/0.4650602409638554\n",
      "max_d:8 lr:0.01 ga:0.1 alpha:10\n",
      "train/test accuracy:0.5274498229043684/0.46265060240963857\n",
      "max_d:8 lr:0.01 ga:0.1 alpha:1\n",
      "train/test accuracy:0.6502361275088547/0.4619621342512909\n",
      "max_d:8 lr:0.01 ga:0.1 alpha:0.1\n",
      "train/test accuracy:0.6669126328217237/0.47194492254733217\n",
      "max_d:8 lr:0.001 ga:10 alpha:10\n",
      "train/test accuracy:0.40938606847697756/0.42030981067125645\n",
      "max_d:8 lr:0.001 ga:10 alpha:1\n",
      "train/test accuracy:0.43078512396694213/0.4440619621342513\n",
      "max_d:8 lr:0.001 ga:10 alpha:0.1\n",
      "train/test accuracy:0.4315230224321133/0.4330464716006885\n",
      "max_d:8 lr:0.001 ga:5 alpha:10\n",
      "train/test accuracy:0.4372786304604486/0.4368330464716007\n",
      "max_d:8 lr:0.001 ga:5 alpha:1\n",
      "train/test accuracy:0.4651711924439197/0.4368330464716007\n",
      "max_d:8 lr:0.001 ga:5 alpha:0.1\n",
      "train/test accuracy:0.4685655253837072/0.43958691910499137\n",
      "max_d:8 lr:0.001 ga:1 alpha:10\n",
      "train/test accuracy:0.4632526564344746/0.4450946643717728\n",
      "max_d:8 lr:0.001 ga:1 alpha:1\n",
      "train/test accuracy:0.5531286894923259/0.4416523235800344\n",
      "max_d:8 lr:0.001 ga:1 alpha:0.1\n",
      "train/test accuracy:0.5574085005903188/0.4512908777969019\n",
      "max_d:8 lr:0.001 ga:0.5 alpha:10\n",
      "train/test accuracy:0.46812278630460447/0.4416523235800344\n",
      "max_d:8 lr:0.001 ga:0.5 alpha:1\n",
      "train/test accuracy:0.5582939787485242/0.44199655765920826\n",
      "max_d:8 lr:0.001 ga:0.5 alpha:0.1\n",
      "train/test accuracy:0.560655253837072/0.45025817555938036\n",
      "max_d:8 lr:0.001 ga:0.1 alpha:10\n",
      "train/test accuracy:0.4747638724911452/0.4402753872633391\n",
      "max_d:8 lr:0.001 ga:0.1 alpha:1\n",
      "train/test accuracy:0.560655253837072/0.44302925989672975\n",
      "max_d:8 lr:0.001 ga:0.1 alpha:0.1\n",
      "train/test accuracy:0.5641971664698937/0.4495697074010327\n",
      "max_d:10 lr:0.1 ga:10 alpha:10\n",
      "train/test accuracy:0.42458677685950413/0.43924268502581754\n",
      "max_d:10 lr:0.1 ga:10 alpha:1\n",
      "train/test accuracy:0.44878984651711923/0.45266781411359724\n",
      "max_d:10 lr:0.1 ga:10 alpha:0.1\n",
      "train/test accuracy:0.45233175914994095/0.45438898450946646\n",
      "max_d:10 lr:0.1 ga:5 alpha:10\n",
      "train/test accuracy:0.4502656434474616/0.45542168674698796\n",
      "max_d:10 lr:0.1 ga:5 alpha:1\n",
      "train/test accuracy:0.5225796930342385/0.46987951807228917\n",
      "max_d:10 lr:0.1 ga:5 alpha:0.1\n",
      "train/test accuracy:0.5518004722550177/0.4781411359724613\n",
      "max_d:10 lr:0.1 ga:1 alpha:10\n",
      "train/test accuracy:0.5687721369539551/0.4895008605851979\n",
      "max_d:10 lr:0.1 ga:1 alpha:1\n",
      "train/test accuracy:0.8962514757969303/0.482960413080895\n",
      "max_d:10 lr:0.1 ga:1 alpha:0.1\n",
      "train/test accuracy:0.9334415584415584/0.47676419965576594\n",
      "max_d:10 lr:0.1 ga:0.5 alpha:10\n",
      "train/test accuracy:0.6475796930342385/0.48777969018932876\n",
      "max_d:10 lr:0.1 ga:0.5 alpha:1\n",
      "train/test accuracy:0.974025974025974/0.4757314974182444\n",
      "max_d:10 lr:0.1 ga:0.5 alpha:0.1\n",
      "train/test accuracy:0.9861275088547816/0.472289156626506\n",
      "max_d:10 lr:0.1 ga:0.1 alpha:10\n",
      "train/test accuracy:0.723435655253837/0.4908777969018933\n",
      "max_d:10 lr:0.1 ga:0.1 alpha:1\n",
      "train/test accuracy:0.9971959858323495/0.46953528399311534\n",
      "max_d:10 lr:0.1 ga:0.1 alpha:0.1\n",
      "train/test accuracy:0.997491145218418/0.47332185886402756\n",
      "max_d:10 lr:0.01 ga:10 alpha:10\n",
      "train/test accuracy:0.42119244391971666/0.43373493975903615\n",
      "max_d:10 lr:0.01 ga:10 alpha:1\n",
      "train/test accuracy:0.4397874852420307/0.4475043029259897\n",
      "max_d:10 lr:0.01 ga:10 alpha:0.1\n",
      "train/test accuracy:0.4433293978748524/0.446815834767642\n",
      "max_d:10 lr:0.01 ga:5 alpha:10\n",
      "train/test accuracy:0.44229634002361273/0.4547332185886403\n",
      "max_d:10 lr:0.01 ga:5 alpha:1\n",
      "train/test accuracy:0.49793388429752067/0.4654044750430293\n",
      "max_d:10 lr:0.01 ga:5 alpha:0.1\n",
      "train/test accuracy:0.5168240850059032/0.46953528399311534\n",
      "max_d:10 lr:0.01 ga:1 alpha:10\n",
      "train/test accuracy:0.5143152302243211/0.46471600688468157\n",
      "max_d:10 lr:0.01 ga:1 alpha:1\n",
      "train/test accuracy:0.7038075560802833/0.4691910499139415\n",
      "max_d:10 lr:0.01 ga:1 alpha:0.1\n",
      "train/test accuracy:0.755608028335301/0.45714285714285713\n",
      "max_d:10 lr:0.01 ga:0.5 alpha:10\n",
      "train/test accuracy:0.5361570247933884/0.46092943201376935\n",
      "max_d:10 lr:0.01 ga:0.5 alpha:1\n",
      "train/test accuracy:0.7466056670602125/0.470223752151463\n",
      "max_d:10 lr:0.01 ga:0.5 alpha:0.1\n",
      "train/test accuracy:0.7835005903187722/0.46092943201376935\n",
      "max_d:10 lr:0.01 ga:0.1 alpha:10\n",
      "train/test accuracy:0.551948051948052/0.47056798623063684\n",
      "max_d:10 lr:0.01 ga:0.1 alpha:1\n",
      "train/test accuracy:0.7637249114521841/0.46368330464716007\n",
      "max_d:10 lr:0.01 ga:0.1 alpha:0.1\n",
      "train/test accuracy:0.7863046044864227/0.46368330464716007\n",
      "max_d:10 lr:0.001 ga:10 alpha:10\n",
      "train/test accuracy:0.40938606847697756/0.42030981067125645\n",
      "max_d:10 lr:0.001 ga:10 alpha:1\n",
      "train/test accuracy:0.4329988193624557/0.4413080895008606\n",
      "max_d:10 lr:0.001 ga:10 alpha:0.1\n",
      "train/test accuracy:0.4347697756788666/0.43235800344234077\n",
      "max_d:10 lr:0.001 ga:5 alpha:10\n",
      "train/test accuracy:0.4372786304604486/0.4368330464716007\n",
      "max_d:10 lr:0.001 ga:5 alpha:1\n",
      "train/test accuracy:0.4772727272727273/0.45748709122203096\n",
      "max_d:10 lr:0.001 ga:5 alpha:0.1\n",
      "train/test accuracy:0.490702479338843/0.4581755593803787\n",
      "max_d:10 lr:0.001 ga:1 alpha:10\n",
      "train/test accuracy:0.47417355371900827/0.4478485370051635\n",
      "max_d:10 lr:0.001 ga:1 alpha:1\n",
      "train/test accuracy:0.6040436835891382/0.4499139414802065\n",
      "max_d:10 lr:0.001 ga:1 alpha:0.1\n",
      "train/test accuracy:0.6388724911452184/0.4557659208261618\n",
      "max_d:10 lr:0.001 ga:0.5 alpha:10\n",
      "train/test accuracy:0.4834710743801653/0.44199655765920826\n",
      "max_d:10 lr:0.001 ga:0.5 alpha:1\n",
      "train/test accuracy:0.6235242030696576/0.4495697074010327\n",
      "max_d:10 lr:0.001 ga:0.5 alpha:0.1\n",
      "train/test accuracy:0.64728453364817/0.4530120481927711\n",
      "max_d:10 lr:0.001 ga:0.1 alpha:10\n",
      "train/test accuracy:0.4935064935064935/0.4506024096385542\n",
      "max_d:10 lr:0.001 ga:0.1 alpha:1\n",
      "train/test accuracy:0.6328217237308147/0.4450946643717728\n",
      "max_d:10 lr:0.001 ga:0.1 alpha:0.1\n",
      "train/test accuracy:0.6512691853600945/0.4530120481927711\n"
     ]
    }
   ],
   "source": [
    "for md in max_d:\n",
    "    for l in lr:\n",
    "        for gamma in ga:\n",
    "            for c in alpha:\n",
    "                clf = XGBClassifier(n_estimators=n_est, max_depth=md, learning_rate = l, gamma =gamma, reg_alpha=c)\n",
    "                clf.fit(X1, y1)\n",
    "                print('max_d:{} lr:{} ga:{} alpha:{}'.format(md,l,gamma,c))\n",
    "                print('train/test accuracy:{}/{}'.format(sum(clf.predict(X1)==y1)/len(y1), sum(clf.predict(X2)==y2)/len(y2)))"
   ]
  },
  {
   "cell_type": "markdown",
   "metadata": {},
   "source": [
    "### seems to be better than MLR and ordinal MLR."
   ]
  },
  {
   "cell_type": "markdown",
   "metadata": {},
   "source": [
    "## 3. random forest\n",
    "### 1. with all"
   ]
  },
  {
   "cell_type": "code",
   "execution_count": 52,
   "metadata": {},
   "outputs": [],
   "source": [
    "X_train = X_train.apply(lambda x: pd.factorize(x)[0])"
   ]
  },
  {
   "cell_type": "code",
   "execution_count": 53,
   "metadata": {},
   "outputs": [],
   "source": [
    "X1, X2, y1, y2 = train_test_split(X_train, y_train, test_size=0.3)\n",
    "\n",
    "# X1 = pd.get_dummies(X1)\n",
    "# X2 = pd.get_dummies(X2)\n",
    "\n",
    "# missing_cols = set( X1.columns ) - set( X2.columns )\n",
    "# for c in missing_cols:\n",
    "#     X2[c] = 0\n",
    "# X2 = X2[X1.columns]"
   ]
  },
  {
   "cell_type": "code",
   "execution_count": 54,
   "metadata": {},
   "outputs": [
    {
     "data": {
      "text/plain": [
       "RandomForestClassifier(bootstrap=True, ccp_alpha=0.0, class_weight=None,\n",
       "                       criterion='gini', max_depth=None, max_features='auto',\n",
       "                       max_leaf_nodes=None, max_samples=None,\n",
       "                       min_impurity_decrease=0.0, min_impurity_split=None,\n",
       "                       min_samples_leaf=1, min_samples_split=2,\n",
       "                       min_weight_fraction_leaf=0.0, n_estimators=100,\n",
       "                       n_jobs=None, oob_score=True, random_state=None,\n",
       "                       verbose=0, warm_start=False)"
      ]
     },
     "execution_count": 54,
     "metadata": {},
     "output_type": "execute_result"
    }
   ],
   "source": [
    "clf = RandomForestClassifier(oob_score=True)\n",
    "clf.fit(X1, y1)"
   ]
  },
  {
   "cell_type": "code",
   "execution_count": 55,
   "metadata": {},
   "outputs": [
    {
     "name": "stdout",
     "output_type": "stream",
     "text": [
      "train/test accuracy:1.0/0.5180722891566265\n"
     ]
    }
   ],
   "source": [
    "print('train/test accuracy:{}/{}'.format(sum(clf.predict(X1)==y1)/len(y1), sum(clf.predict(X2)==y2)/len(y2)))"
   ]
  },
  {
   "cell_type": "code",
   "execution_count": 56,
   "metadata": {},
   "outputs": [
    {
     "data": {
      "text/plain": [
       "(6776, 21)"
      ]
     },
     "execution_count": 56,
     "metadata": {},
     "output_type": "execute_result"
    }
   ],
   "source": [
    "X1.shape"
   ]
  },
  {
   "cell_type": "code",
   "execution_count": 57,
   "metadata": {},
   "outputs": [
    {
     "name": "stdout",
     "output_type": "stream",
     "text": [
      "Feature ranking:\n",
      "1 reviews_per_month: 0.10477591517897825\n",
      "2 cleaning_fee: 0.10106453658126388\n",
      "3 availability_365: 0.09237273878242115\n",
      "4 number_of_reviews: 0.09081809386430405\n",
      "5 neighbourhood: 0.07341361404284392\n",
      "6 minimum_nights: 0.0643196456879284\n",
      "7 maximum_nights: 0.06108423118181588\n",
      "8 calculated_host_listings_count: 0.058678864888076956\n",
      "9 bedrooms: 0.05665779412226367\n",
      "10 room_type: 0.05652563637089382\n",
      "11 extra_people: 0.046887728726114436\n",
      "12 beds: 0.042472890734576586\n",
      "13 bathrooms: 0.038502822665096116\n",
      "14 cancellation_policy: 0.036044870584736675\n",
      "15 guests_included: 0.027651184005140644\n",
      "16 instant_bookable: 0.022048235111112337\n",
      "17 host_is_superhost: 0.01944372351346128\n",
      "18 require_guest_profile_picture: 0.0032250030963301\n",
      "19 require_guest_phone_verification: 0.0029066831663963955\n",
      "20 bed_type: 0.001105787696245523\n",
      "21 is_business_travel_ready: 0.0\n"
     ]
    }
   ],
   "source": [
    "importances = clf.feature_importances_\n",
    "std = np.std([tree.feature_importances_ for tree in clf.estimators_],\n",
    "             axis=0)\n",
    "indices = np.argsort(importances)[::-1]\n",
    "print(\"Feature ranking:\")\n",
    "\n",
    "for f in range(X_train.shape[1]):\n",
    "    print('{} {}: {}'.format(f + 1, X_train.columns[indices[f]], importances[indices[f]]))"
   ]
  },
  {
   "cell_type": "markdown",
   "metadata": {},
   "source": [
    "### 2. take feature with variance > 0.05"
   ]
  },
  {
   "cell_type": "code",
   "execution_count": 58,
   "metadata": {},
   "outputs": [],
   "source": [
    "selected = [indices[f] for f in range(X_train.shape[1]) if importances[indices[f]]>=0.05]"
   ]
  },
  {
   "cell_type": "code",
   "execution_count": 59,
   "metadata": {},
   "outputs": [],
   "source": [
    "X_train_selected = X_train.iloc[:,selected].copy()"
   ]
  },
  {
   "cell_type": "code",
   "execution_count": 60,
   "metadata": {},
   "outputs": [],
   "source": [
    "X1, X2, y1, y2 = train_test_split(X_train_selected, y_train, test_size=0.3)"
   ]
  },
  {
   "cell_type": "code",
   "execution_count": 61,
   "metadata": {},
   "outputs": [
    {
     "name": "stdout",
     "output_type": "stream",
     "text": [
      "train/test accuracy:0.48037190082644626/0.4929432013769363\n",
      "train/test accuracy:0.6868358913813459/0.5080895008605852\n",
      "train/test accuracy:0.952922077922078/0.5118760757314974\n",
      "train/test accuracy:0.9995572609208973/0.5049913941480206\n",
      "train/test accuracy:0.9998524203069658/0.5012048192771085\n"
     ]
    }
   ],
   "source": [
    "md = [5, 10, 15, 20, 25]\n",
    "for max_depth in md:\n",
    "    clf = RandomForestClassifier(max_depth=max_depth)\n",
    "    clf.fit(X1, y1)\n",
    "    print('train/test accuracy:{}/{}'.format(sum(clf.predict(X1)==y1)/len(y1), sum(clf.predict(X2)==y2)/len(y2)))"
   ]
  },
  {
   "cell_type": "code",
   "execution_count": null,
   "metadata": {},
   "outputs": [],
   "source": []
  },
  {
   "cell_type": "code",
   "execution_count": null,
   "metadata": {},
   "outputs": [],
   "source": []
  },
  {
   "cell_type": "code",
   "execution_count": null,
   "metadata": {},
   "outputs": [],
   "source": []
  },
  {
   "cell_type": "code",
   "execution_count": null,
   "metadata": {},
   "outputs": [],
   "source": []
  },
  {
   "cell_type": "code",
   "execution_count": null,
   "metadata": {},
   "outputs": [],
   "source": []
  },
  {
   "cell_type": "code",
   "execution_count": null,
   "metadata": {},
   "outputs": [],
   "source": []
  },
  {
   "cell_type": "code",
   "execution_count": null,
   "metadata": {},
   "outputs": [],
   "source": []
  }
 ],
 "metadata": {
  "kernelspec": {
   "display_name": "Python 3",
   "language": "python",
   "name": "python3"
  },
  "language_info": {
   "codemirror_mode": {
    "name": "ipython",
    "version": 3
   },
   "file_extension": ".py",
   "mimetype": "text/x-python",
   "name": "python",
   "nbconvert_exporter": "python",
   "pygments_lexer": "ipython3",
   "version": "3.7.6"
  }
 },
 "nbformat": 4,
 "nbformat_minor": 4
}
